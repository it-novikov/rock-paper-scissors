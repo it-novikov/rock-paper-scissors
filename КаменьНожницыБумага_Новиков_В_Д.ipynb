{
  "nbformat": 4,
  "nbformat_minor": 0,
  "metadata": {
    "colab": {
      "provenance": [],
      "include_colab_link": true
    },
    "kernelspec": {
      "name": "python3",
      "display_name": "Python 3"
    },
    "language_info": {
      "name": "python"
    }
  },
  "cells": [
    {
      "cell_type": "markdown",
      "metadata": {
        "id": "view-in-github",
        "colab_type": "text"
      },
      "source": [
        "<a href=\"https://colab.research.google.com/github/it-novikov/rock-paper-scissors/blob/main/%D0%9A%D0%B0%D0%BC%D0%B5%D0%BD%D1%8C%D0%9D%D0%BE%D0%B6%D0%BD%D0%B8%D1%86%D1%8B%D0%91%D1%83%D0%BC%D0%B0%D0%B3%D0%B0_%D0%9D%D0%BE%D0%B2%D0%B8%D0%BA%D0%BE%D0%B2_%D0%92_%D0%94.ipynb\" target=\"_parent\"><img src=\"https://colab.research.google.com/assets/colab-badge.svg\" alt=\"Open In Colab\"/></a>"
      ]
    },
    {
      "cell_type": "code",
      "execution_count": null,
      "metadata": {
        "id": "MXXTuy_o0sjk"
      },
      "outputs": [],
      "source": [
        "!pip install -q -U kaggle_environments"
      ]
    },
    {
      "cell_type": "code",
      "source": [
        "import numpy as np\n",
        "import pandas as pd\n",
        "import random\n",
        "\n",
        "import matplotlib.pyplot as plt\n",
        "import seaborn as sns\n",
        "\n",
        "from kaggle_environments import make, evaluate"
      ],
      "metadata": {
        "id": "yz23vWHD0wcj"
      },
      "execution_count": null,
      "outputs": []
    },
    {
      "cell_type": "code",
      "source": [
        "%%writefile rock_agent.py\n",
        "\n",
        "#0 - rock\n",
        "#1 - paper\n",
        "#2 - scissors\n",
        "\n",
        "# Агент, всегда показывающий камень\n",
        "def rock_agent(observation, configuration):\n",
        "    return 0"
      ],
      "metadata": {
        "id": "bqTqV7B92rJ6",
        "colab": {
          "base_uri": "https://localhost:8080/"
        },
        "outputId": "0acfeff3-8749-416d-8a87-71560ca22019"
      },
      "execution_count": null,
      "outputs": [
        {
          "output_type": "stream",
          "name": "stdout",
          "text": [
            "Overwriting rock_agent.py\n"
          ]
        }
      ]
    },
    {
      "cell_type": "code",
      "source": [
        "%%writefile paper_agent.py\n",
        "\n",
        "# Агент, всегда показывающий бумагу\n",
        "def paper_agent(observation, configuration):\n",
        "  return 1"
      ],
      "metadata": {
        "colab": {
          "base_uri": "https://localhost:8080/"
        },
        "id": "H2LV-ChK867S",
        "outputId": "857cd1ba-cfe8-4519-d176-ec3801353c01"
      },
      "execution_count": null,
      "outputs": [
        {
          "output_type": "stream",
          "name": "stdout",
          "text": [
            "Overwriting paper_agent.py\n"
          ]
        }
      ]
    },
    {
      "cell_type": "code",
      "source": [
        "%%writefile scissors_agent.py\n",
        "\n",
        "# Агент, всегда показывающий ножницы\n",
        "def scissors_agent(observation, configuration):\n",
        "  return 2"
      ],
      "metadata": {
        "colab": {
          "base_uri": "https://localhost:8080/"
        },
        "id": "eZiNHW7_87Sx",
        "outputId": "e83839d4-2873-4185-d309-a9184f5f0f85"
      },
      "execution_count": null,
      "outputs": [
        {
          "output_type": "stream",
          "name": "stdout",
          "text": [
            "Overwriting scissors_agent.py\n"
          ]
        }
      ]
    },
    {
      "cell_type": "code",
      "source": [
        "%%writefile rock_or_paper_agent.py\n",
        "import random\n",
        "\n",
        "# Агент, показывающий камень или бумагу случайным образом\n",
        "def rock_or_paper_agent(observation, configuration):\n",
        "  value = random.randint(1, 100)\n",
        "  result = 0 if value % 2 == 0 else 1\n",
        "  return result"
      ],
      "metadata": {
        "colab": {
          "base_uri": "https://localhost:8080/"
        },
        "id": "n_0nt5W687jd",
        "outputId": "5c68c56f-5dbb-4188-de59-b120b006e75d"
      },
      "execution_count": null,
      "outputs": [
        {
          "output_type": "stream",
          "name": "stdout",
          "text": [
            "Overwriting rock_or_paper_agent.py\n"
          ]
        }
      ]
    },
    {
      "cell_type": "code",
      "source": [
        "%%writefile rock_or_scissors_agent.py\n",
        "import random\n",
        "\n",
        "# Агент, показывающий камень или ножницы случайным образом\n",
        "def rock_or_scissors_agent(observation, configuration):\n",
        "  value = random.randint(1, 100)\n",
        "  result = 0 if value % 2 == 0 else 2\n",
        "  return result"
      ],
      "metadata": {
        "colab": {
          "base_uri": "https://localhost:8080/"
        },
        "id": "QPMz8RJo87wC",
        "outputId": "e53f7ec8-fd69-4281-cf4f-bc9484296ed1"
      },
      "execution_count": null,
      "outputs": [
        {
          "output_type": "stream",
          "name": "stdout",
          "text": [
            "Overwriting rock_or_scissors_agent.py\n"
          ]
        }
      ]
    },
    {
      "cell_type": "code",
      "source": [
        "%%writefile paper_or_scissors_agent.py\n",
        "import random\n",
        "\n",
        "# Агент, показывающий бумагу или ножницы случайным образом\n",
        "def paper_or_scissors_agent(observation, configuration):\n",
        "  value = random.randint(1, 100)\n",
        "  result = 1 if value % 2 == 0 else 2\n",
        "  return result"
      ],
      "metadata": {
        "colab": {
          "base_uri": "https://localhost:8080/"
        },
        "id": "1tyEfM1A877T",
        "outputId": "ab2e7931-1821-48c4-a400-818293d6452a"
      },
      "execution_count": null,
      "outputs": [
        {
          "output_type": "stream",
          "name": "stdout",
          "text": [
            "Overwriting paper_or_scissors_agent.py\n"
          ]
        }
      ]
    },
    {
      "cell_type": "code",
      "source": [
        "%%writefile three_rock_one_paper.py\n",
        "import random\n",
        "\n",
        "# Агент, который использует 3 камня подряд, а затем бумагу\n",
        "counter = 0\n",
        "def three_rock_one_paper(observation, configuration):\n",
        "    global counter\n",
        "    if counter % 3 == 0:\n",
        "        return 1\n",
        "    else:\n",
        "        counter += 1\n",
        "        return 0"
      ],
      "metadata": {
        "colab": {
          "base_uri": "https://localhost:8080/"
        },
        "id": "dANAZDmGDbL3",
        "outputId": "20abc63c-7c84-45b2-8fa2-b74e721fc65f"
      },
      "execution_count": null,
      "outputs": [
        {
          "output_type": "stream",
          "name": "stdout",
          "text": [
            "Writing three_rock_one_paper.py\n"
          ]
        }
      ]
    },
    {
      "cell_type": "code",
      "source": [
        "%%writefile three_paper_one_scissors.py\n",
        "import random\n",
        "\n",
        "# Агент, который использует 3 камня подряд, а затем бумагу\n",
        "counter = 0\n",
        "def three_paper_one_scissors(observation, configuration):\n",
        "    global counter\n",
        "    if counter % 3 == 0:\n",
        "        return 2\n",
        "    else:\n",
        "        counter += 1\n",
        "        return 1"
      ],
      "metadata": {
        "id": "7l6Ttw6qi0jk",
        "colab": {
          "base_uri": "https://localhost:8080/"
        },
        "outputId": "7bd54c55-cafa-4368-faa3-9e78ef76b294"
      },
      "execution_count": null,
      "outputs": [
        {
          "output_type": "stream",
          "name": "stdout",
          "text": [
            "Writing three_paper_one_scissors.py\n"
          ]
        }
      ]
    },
    {
      "cell_type": "code",
      "source": [
        "%%writefile copy_opposite_opponent_agent.py\n",
        "import random\n",
        "\n",
        "# Агент, который показывает ход оппонента со сдвигом на один пункт вправо\n",
        "# (числа имеют круг от 0 до 2, таким образом 2 + 1 = 0)\n",
        "def copy_opposite_opponent_agent(observation, configuration):\n",
        "    if observation.step > 0:\n",
        "        result = observation.lastOpponentAction + 1\n",
        "        if result == 3:\n",
        "            result = 0\n",
        "        return result\n",
        "    else:\n",
        "        return random.randint(0, 2)"
      ],
      "metadata": {
        "colab": {
          "base_uri": "https://localhost:8080/"
        },
        "id": "HkFKDnAfCyLQ",
        "outputId": "73f4a560-e493-4cdd-85e4-b255176c4519"
      },
      "execution_count": null,
      "outputs": [
        {
          "output_type": "stream",
          "name": "stdout",
          "text": [
            "Overwriting copy_opposite_opponent_agent.py\n"
          ]
        }
      ]
    },
    {
      "cell_type": "code",
      "source": [
        "%%writefile copy_double_opposite_opponent_agent.py\n",
        "import random\n",
        "\n",
        "# Агент, который показывает ход оппонента со сдвигом на два пункта вправо\n",
        "# (числа имеют круг от 0 до 2, таким образом 1 + 2 = 0)\n",
        "def copy_double_opposite_opponent_agent(observation, configuration):\n",
        "    if observation.step > 0:\n",
        "        result = observation.lastOpponentAction + 2\n",
        "        if result == 3:\n",
        "            result = 1\n",
        "        elif result == 4:\n",
        "            result = 2\n",
        "        return result\n",
        "    else:\n",
        "        return random.randint(0, 2)"
      ],
      "metadata": {
        "colab": {
          "base_uri": "https://localhost:8080/"
        },
        "id": "o_Pk-9RPCyDt",
        "outputId": "df0524be-4af4-41ed-ccda-5c2a032f53a3"
      },
      "execution_count": null,
      "outputs": [
        {
          "output_type": "stream",
          "name": "stdout",
          "text": [
            "Overwriting copy_double_opposite_opponent_agent.py\n"
          ]
        }
      ]
    },
    {
      "cell_type": "code",
      "source": [
        "%%writefile while_lose_first_agent.py\n",
        "import random\n",
        "\n",
        "# Агент, который делает один и тот же выбор, пока не проиграет, затем делает\n",
        "# сдвиг на 1 пункт вправо\n",
        "last_result = None\n",
        "def while_lose_first_agent(observation, configuration):\n",
        "    global last_result\n",
        "\n",
        "    if last_result == None:\n",
        "        result = random.randint(0, 2)\n",
        "        last_result = result\n",
        "        return result\n",
        "\n",
        "    if (last_result + 1) == observation.lastOpponentAction:\n",
        "        last_result += 1\n",
        "        if last_result == 3:\n",
        "            last_result = 0\n",
        "        return last_result\n",
        "    else:\n",
        "        return last_result"
      ],
      "metadata": {
        "colab": {
          "base_uri": "https://localhost:8080/"
        },
        "id": "L_7Bi6IKCx5b",
        "outputId": "a8e5b31a-57d7-425a-9736-f5966f42ec86"
      },
      "execution_count": null,
      "outputs": [
        {
          "output_type": "stream",
          "name": "stdout",
          "text": [
            "Overwriting while_lose_first_agent.py\n"
          ]
        }
      ]
    },
    {
      "cell_type": "code",
      "source": [
        "%%writefile while_lose_second_agent.py\n",
        "import random\n",
        "\n",
        "# Агент, который делает один и тот же выбор, пока не проиграет, затем делает\n",
        "# сдвиг на 2 пункnf вправо\n",
        "last_result = None\n",
        "def while_lose_first_agent(observation, configuration):\n",
        "    global last_result\n",
        "\n",
        "    if last_result == None:\n",
        "        result = random.randint(0, 2)\n",
        "        last_result = result\n",
        "        return result\n",
        "\n",
        "    if (last_result + 1) == observation.lastOpponentAction:\n",
        "        last_result += 2\n",
        "        if last_result == 4:\n",
        "            last_result = 2\n",
        "        elif last_result == 3:\n",
        "            last_result = 1\n",
        "        return last_result\n",
        "    else:\n",
        "        return last_result"
      ],
      "metadata": {
        "colab": {
          "base_uri": "https://localhost:8080/"
        },
        "id": "--snjytXCxk1",
        "outputId": "849674e4-d4f5-46dd-eb38-35e0d30c9db2"
      },
      "execution_count": null,
      "outputs": [
        {
          "output_type": "stream",
          "name": "stdout",
          "text": [
            "Overwriting while_lose_second_agent.py\n"
          ]
        }
      ]
    },
    {
      "cell_type": "markdown",
      "source": [
        "Начинаем турнир!"
      ],
      "metadata": {
        "id": "ExgIpXUVjbjN"
      }
    },
    {
      "cell_type": "markdown",
      "source": [
        "Правила следующие:\n",
        "- каждый агент сталкивается с другим агентом на 100 матчей\n",
        "- по итогам 100 матчей выявляется лучший, который проходит в следующий этап\n",
        "- всего участвует 12 агентов\n",
        "- когда останется 3 агента, каждый из них сыграет друг с другом\n",
        "- 2 агента с наибольшим количеством побед проходят в финал\n",
        "- в финале побеждает агент с наибольшим количеством побед"
      ],
      "metadata": {
        "id": "UE3EutCDJZyq"
      }
    },
    {
      "cell_type": "markdown",
      "source": [
        "Первый этап:"
      ],
      "metadata": {
        "id": "vrTwoL1nLCjv"
      }
    },
    {
      "cell_type": "code",
      "source": [
        "evaluate(\n",
        "    \"rps\",\n",
        "    [\"paper_agent.py\", \"while_lose_first_agent.py\"],\n",
        "    configuration={\"episodeSteps\": 100}\n",
        ")"
      ],
      "metadata": {
        "id": "FC6_QWe9k3rr",
        "colab": {
          "base_uri": "https://localhost:8080/"
        },
        "outputId": "7513e85d-8251-4e8a-84e1-b7fa445a3b4e"
      },
      "execution_count": null,
      "outputs": [
        {
          "output_type": "execute_result",
          "data": {
            "text/plain": [
              "[[-99.0, 99.0]]"
            ]
          },
          "metadata": {},
          "execution_count": 32
        }
      ]
    },
    {
      "cell_type": "code",
      "source": [
        "evaluate(\n",
        "    \"rps\",\n",
        "    [\"scissors_agent.py\", \"while_lose_second_agent.py\"],\n",
        "    configuration={\"episodeSteps\": 100}\n",
        ")"
      ],
      "metadata": {
        "colab": {
          "base_uri": "https://localhost:8080/"
        },
        "id": "-WfOBRKqKj0g",
        "outputId": "b6725954-1081-4879-9880-955f1d313683"
      },
      "execution_count": null,
      "outputs": [
        {
          "output_type": "execute_result",
          "data": {
            "text/plain": [
              "[[99.0, -99.0]]"
            ]
          },
          "metadata": {},
          "execution_count": 34
        }
      ]
    },
    {
      "cell_type": "code",
      "source": [
        "evaluate(\n",
        "    \"rps\",\n",
        "    [\"paper_or_scissors_agent.py\", \"copy_opposite_opponent_agent.py\"],\n",
        "    configuration={\"episodeSteps\": 100}\n",
        ")"
      ],
      "metadata": {
        "colab": {
          "base_uri": "https://localhost:8080/"
        },
        "id": "-HAC6KOyKjlJ",
        "outputId": "cf70f5e3-f836-4693-aa30-66d49d7693dd"
      },
      "execution_count": null,
      "outputs": [
        {
          "output_type": "execute_result",
          "data": {
            "text/plain": [
              "[[-27.0, 27.0]]"
            ]
          },
          "metadata": {},
          "execution_count": 71
        }
      ]
    },
    {
      "cell_type": "code",
      "source": [
        "evaluate(\n",
        "    \"rps\",\n",
        "    [\"rock_or_paper_agent.py\", \"copy_double_opposite_opponent_agent.py\"],\n",
        "    configuration={\"episodeSteps\": 100}\n",
        ")"
      ],
      "metadata": {
        "colab": {
          "base_uri": "https://localhost:8080/"
        },
        "id": "8RF9JrdSKjZZ",
        "outputId": "0154ca06-2760-45d3-9811-f3010048b8e4"
      },
      "execution_count": null,
      "outputs": [
        {
          "output_type": "execute_result",
          "data": {
            "text/plain": [
              "[[-28.0, 28.0]]"
            ]
          },
          "metadata": {},
          "execution_count": 36
        }
      ]
    },
    {
      "cell_type": "code",
      "source": [
        "evaluate(\n",
        "    \"rps\",\n",
        "    [\"rock_or_scissors_agent.py\", \"rock_agent.py\"],\n",
        "    configuration={\"episodeSteps\": 100}\n",
        ")"
      ],
      "metadata": {
        "colab": {
          "base_uri": "https://localhost:8080/"
        },
        "id": "HU5XWK6GKjLf",
        "outputId": "33f9dc72-48e8-4730-ca04-ca46a4f0bdc5"
      },
      "execution_count": null,
      "outputs": [
        {
          "output_type": "execute_result",
          "data": {
            "text/plain": [
              "[[-51.0, 51.0]]"
            ]
          },
          "metadata": {},
          "execution_count": 37
        }
      ]
    },
    {
      "cell_type": "code",
      "source": [
        "evaluate(\n",
        "    \"rps\",\n",
        "    [\"three_paper_one_scissors.py\", \"three_rock_one_paper.py\"],\n",
        "    configuration={\"episodeSteps\": 100}\n",
        ")"
      ],
      "metadata": {
        "colab": {
          "base_uri": "https://localhost:8080/"
        },
        "id": "TeWsUswTbTF4",
        "outputId": "595808af-a685-438d-a94a-87a74599b096"
      },
      "execution_count": null,
      "outputs": [
        {
          "output_type": "execute_result",
          "data": {
            "text/plain": [
              "[[99.0, -99.0]]"
            ]
          },
          "metadata": {},
          "execution_count": 86
        }
      ]
    },
    {
      "cell_type": "markdown",
      "source": [
        "Второй этап:"
      ],
      "metadata": {
        "id": "R3WGRCydLGIl"
      }
    },
    {
      "cell_type": "code",
      "source": [
        "evaluate(\n",
        "    \"rps\",\n",
        "    [\"while_lose_first_agent.py\", \"scissors_agent.py\"],\n",
        "    configuration={\"episodeSteps\": 100}\n",
        ")"
      ],
      "metadata": {
        "colab": {
          "base_uri": "https://localhost:8080/"
        },
        "id": "o-aLZDZHLI9-",
        "outputId": "774e6c15-77d7-481e-e786-bb27f126c349"
      },
      "execution_count": null,
      "outputs": [
        {
          "output_type": "execute_result",
          "data": {
            "text/plain": [
              "[[99.0, -99.0]]"
            ]
          },
          "metadata": {},
          "execution_count": 87
        }
      ]
    },
    {
      "cell_type": "code",
      "source": [
        "evaluate(\n",
        "    \"rps\",\n",
        "    [\"copy_opposite_opponent_agent.py\", \"copy_double_opposite_opponent_agent.py\"],\n",
        "    configuration={\"episodeSteps\": 100}\n",
        ")"
      ],
      "metadata": {
        "colab": {
          "base_uri": "https://localhost:8080/"
        },
        "id": "pNx-rp3JLLSL",
        "outputId": "cc7db992-915f-42b7-9b05-fe4353a6e1f4"
      },
      "execution_count": null,
      "outputs": [
        {
          "output_type": "execute_result",
          "data": {
            "text/plain": [
              "[[96.0, -96.0]]"
            ]
          },
          "metadata": {},
          "execution_count": 88
        }
      ]
    },
    {
      "cell_type": "code",
      "source": [
        "evaluate(\n",
        "    \"rps\",\n",
        "    [\"rock_agent.py\", \"three_paper_one_scissors.py\"],\n",
        "    configuration={\"episodeSteps\": 100}\n",
        ")"
      ],
      "metadata": {
        "colab": {
          "base_uri": "https://localhost:8080/"
        },
        "id": "ENyy7WoILK7d",
        "outputId": "66866474-2fbd-4394-c56e-44578ed9c3a4"
      },
      "execution_count": null,
      "outputs": [
        {
          "output_type": "execute_result",
          "data": {
            "text/plain": [
              "[[99.0, -99.0]]"
            ]
          },
          "metadata": {},
          "execution_count": 90
        }
      ]
    },
    {
      "cell_type": "markdown",
      "source": [
        "Третий этап:"
      ],
      "metadata": {
        "id": "jEins_MGLMlY"
      }
    },
    {
      "cell_type": "code",
      "source": [
        "evaluate(\n",
        "    \"rps\",\n",
        "    [\"while_lose_first_agent.py\", \"copy_opposite_opponent_agent.py\"],\n",
        "    configuration={\"episodeSteps\": 100}\n",
        ")"
      ],
      "metadata": {
        "colab": {
          "base_uri": "https://localhost:8080/"
        },
        "id": "myMPTswvLNv1",
        "outputId": "4e2727f5-a5da-46fa-e777-e2be5544b35a"
      },
      "execution_count": null,
      "outputs": [
        {
          "output_type": "execute_result",
          "data": {
            "text/plain": [
              "[[-96.0, 96.0]]"
            ]
          },
          "metadata": {},
          "execution_count": 89
        }
      ]
    },
    {
      "cell_type": "code",
      "source": [
        "evaluate(\n",
        "    \"rps\",\n",
        "    [\"while_lose_first_agent.py\", \"rock_agent.py\"],\n",
        "    configuration={\"episodeSteps\": 100}\n",
        ")"
      ],
      "metadata": {
        "colab": {
          "base_uri": "https://localhost:8080/"
        },
        "id": "5U6Ro2jgLTpp",
        "outputId": "b9bed2bb-dde4-4d41-ee3b-fc502fbaf0d6"
      },
      "execution_count": null,
      "outputs": [
        {
          "output_type": "execute_result",
          "data": {
            "text/plain": [
              "[[99.0, -99.0]]"
            ]
          },
          "metadata": {},
          "execution_count": 92
        }
      ]
    },
    {
      "cell_type": "code",
      "source": [
        "evaluate(\n",
        "    \"rps\",\n",
        "    [\"copy_opposite_opponent_agent.py\", \"rock_agent.py\"],\n",
        "    configuration={\"episodeSteps\": 100}\n",
        ")"
      ],
      "metadata": {
        "colab": {
          "base_uri": "https://localhost:8080/"
        },
        "id": "wpCbUij8LT1o",
        "outputId": "c669c8fc-ad6a-4eac-d8b3-2df9fc1741c3"
      },
      "execution_count": null,
      "outputs": [
        {
          "output_type": "execute_result",
          "data": {
            "text/plain": [
              "[[97.0, -97.0]]"
            ]
          },
          "metadata": {},
          "execution_count": 93
        }
      ]
    },
    {
      "cell_type": "markdown",
      "source": [
        "Результаты 3 этапа:\n",
        "while_lose_first_agent = 3\n",
        "rock_agent = -196\n",
        "copy_opposite_opponent_agent = 193\n",
        "\n",
        "В финал выходят:\n",
        "while_lose_first_agent vs copy_opposite_opponent_agent"
      ],
      "metadata": {
        "id": "lHSvZnN7gLOB"
      }
    },
    {
      "cell_type": "markdown",
      "source": [
        "Финал:"
      ],
      "metadata": {
        "id": "tPijZBc5LUTj"
      }
    },
    {
      "cell_type": "code",
      "source": [
        "evaluate(\n",
        "    \"rps\",\n",
        "    [\"while_lose_first_agent.py\", \"copy_opposite_opponent_agent.py\"],\n",
        "    configuration={\"episodeSteps\": 100}\n",
        ")"
      ],
      "metadata": {
        "colab": {
          "base_uri": "https://localhost:8080/"
        },
        "id": "E0KPkzzkLV4w",
        "outputId": "1e7510c9-fb43-4039-cb3e-34d2e342b5cf"
      },
      "execution_count": null,
      "outputs": [
        {
          "output_type": "execute_result",
          "data": {
            "text/plain": [
              "[[-95.0, 95.0]]"
            ]
          },
          "metadata": {},
          "execution_count": 94
        }
      ]
    },
    {
      "cell_type": "markdown",
      "source": [
        "Победитель: copy_opposite_opponent_agent"
      ],
      "metadata": {
        "id": "fglWv_83gwzn"
      }
    }
  ]
}